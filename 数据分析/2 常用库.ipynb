{
 "cells": [
  {
   "cell_type": "markdown",
   "metadata": {},
   "source": [
    "## 概述\n",
    "### numpy \n",
    "numpy（numeric python）是 python 的一个开源数值计算库，主要用于数组和矩阵计算。底层是 C 语言，运行效率远高于纯 python 代码。numpy主要包含2个重要的数据类型：\n",
    "<br>1）ndarray （N维数组，这个是我们要重点掌握的）\n",
    "<br>2）matrix （矩阵）\n",
    "### scipy \n",
    "scipy 是基于 numpy 的的一个算法库和数学工具包，包含的模块有最优化、线性代数、积分、插值、特殊函数、快速傅里叶变换、信号处理和图像处理、常微分方程求解和其他科学与工程中常用的计算。 \n",
    "### pandas\n",
    "pandas 基于 numpy、scipy，补充了大量数据操作功能，能实现统计、分组、排序、透视表，可以代替Excel的绝大部分功能。  \n",
    "Pandas主要有2种重要数据类型：\n",
    "<br>1）Series（一维序列）\n",
    "<br>2）DataFrame（二维表）\n",
    "### matplotlib\n",
    "Matplotlib 是一个Python绘图库,其设计理念是能够用轻松简单的方式生成强大的可视化效果，只需几行代码即可生成绘图，直方图，功率谱，条形图，错误图，散点图等，是Python学习过程中核心库之一。\n"
   ]
  },
  {
   "cell_type": "markdown",
   "metadata": {},
   "source": [
    "## NumPy快速入门\n",
    "### ndarray的创建\n",
    "常见的方式有三种：\n",
    "<br>1）通过python的基础对象转换过来。\n",
    "<br>2）通过内置函数生成的\n",
    "<br>3）从硬盘里面读取数据生成的"
   ]
  },
  {
   "cell_type": "code",
   "execution_count": 3,
   "metadata": {},
   "outputs": [
    {
     "name": "stdout",
     "output_type": "stream",
     "text": [
      "[ 1. 28. 10.]\n",
      "<class 'numpy.ndarray'>\n",
      "float64\n"
     ]
    }
   ],
   "source": [
    "# 通过python的基础对象转换\n",
    "import numpy as np\n",
    "\n",
    "li = [1.,28,10]\n",
    "\n",
    "nd = np.array(li)\n",
    "print(nd)\n",
    "\n",
    "print(type(nd))\n",
    "print(nd.dtype)"
   ]
  },
  {
   "cell_type": "code",
   "execution_count": 3,
   "metadata": {},
   "outputs": [
    {
     "name": "stdout",
     "output_type": "stream",
     "text": [
      "[[0. 0. 0. 0.]\n",
      " [0. 0. 0. 0.]\n",
      " [0. 0. 0. 0.]]\n",
      "[[1. 1. 1. 1.]\n",
      " [1. 1. 1. 1.]\n",
      " [1. 1. 1. 1.]]\n",
      "[[93 73 49]\n",
      " [ 2 75 94]]\n",
      "[[8 8 8]\n",
      " [8 8 8]]\n",
      "int32\n"
     ]
    }
   ],
   "source": [
    "#通过内置函数生成\n",
    "\n",
    "nd0 = np.zeros((3,4))\n",
    "nd1 = np.ones((3,4))\n",
    "nd2 = np.random.randint(1,100,(2,3))\n",
    "nd3 = np.tile(8,(2,3))\n",
    "\n",
    "print(nd0)\n",
    "print(nd1)\n",
    "print(nd2)\n",
    "print(nd3)\n",
    "print(nd3.dtype)"
   ]
  },
  {
   "cell_type": "code",
   "execution_count": 7,
   "metadata": {},
   "outputs": [
    {
     "name": "stdout",
     "output_type": "stream",
     "text": [
      "[[4.0920000e+04 8.3269760e+00 9.5395200e-01]\n",
      " [1.4488000e+04 7.1534690e+00 1.6739040e+00]\n",
      " [2.6052000e+04 1.4418710e+00 8.0512400e-01]\n",
      " ...\n",
      " [2.6575000e+04 1.0650102e+01 8.6662700e-01]\n",
      " [4.8111000e+04 9.1345280e+00 7.2804500e-01]\n",
      " [4.3757000e+04 7.8826010e+00 1.3324460e+00]]\n",
      "float64\n"
     ]
    }
   ],
   "source": [
    "#从硬盘里面读取数据生成\n",
    "\n",
    "nd4 = np.loadtxt(\"./data/datingTestSet.txt\",skiprows=1,usecols=[0,1,2])  #注意这里数据被转换成了float64，源文件中是int型\n",
    "print(nd4)\n",
    "print(nd4.dtype)"
   ]
  },
  {
   "cell_type": "markdown",
   "metadata": {},
   "source": [
    "### ndarray 相关属性\n",
    "ndarray 对象具有如下常用属性：\n",
    "* ndim\n",
    "* shape\n",
    "* dtype\n",
    "* size\n",
    "* itemsize"
   ]
  },
  {
   "cell_type": "code",
   "execution_count": 5,
   "metadata": {},
   "outputs": [
    {
     "data": {
      "text/plain": [
       "2"
      ]
     },
     "metadata": {},
     "output_type": "display_data"
    },
    {
     "data": {
      "text/plain": [
       "(2, 3)"
      ]
     },
     "metadata": {},
     "output_type": "display_data"
    },
    {
     "data": {
      "text/plain": [
       "dtype('int32')"
      ]
     },
     "metadata": {},
     "output_type": "display_data"
    },
    {
     "data": {
      "text/plain": [
       "6"
      ]
     },
     "metadata": {},
     "output_type": "display_data"
    },
    {
     "data": {
      "text/plain": [
       "4"
      ]
     },
     "metadata": {},
     "output_type": "display_data"
    }
   ],
   "source": [
    "x = np.array([[1, 2, 3],\n",
    "              [3, 4, 5]])\n",
    "\n",
    "# 获取数组的维度\n",
    "display(x.ndim)\n",
    "\n",
    "# 获取数组的形状（每个维度上的长度）。返回一个元组。\n",
    "display(x.shape)\n",
    "\n",
    "# 获取数组的元素类型。\n",
    "display(x.dtype)\n",
    "\n",
    "# 返回数组元素的个数。(整体所有元素的个数)\n",
    "display(x.size)\n",
    "\n",
    "# 返回数组元素占用空间的大小。以字节为单位。\n",
    "display(x.itemsize)"
   ]
  },
  {
   "cell_type": "markdown",
   "metadata": {},
   "source": [
    "### ndarray 的特点\n",
    "* 数据类型一致\n",
    "* 矢量化运算"
   ]
  },
  {
   "cell_type": "code",
   "execution_count": 6,
   "metadata": {},
   "outputs": [
    {
     "name": "stdout",
     "output_type": "stream",
     "text": [
      "[[ 2  4  6]\n",
      " [ 8 10 12]]\n",
      "[[ 1  4  9]\n",
      " [16 25 36]]\n",
      "[[1.5 2.5 3.5]\n",
      " [4.5 5.5 6.5]]\n",
      "[[0.5 1.  1.5]\n",
      " [2.  2.5 3. ]]\n"
     ]
    }
   ],
   "source": [
    "nd5 = np.array([[1,2,3],\n",
    "                [4,5,6]])\n",
    "\n",
    "#标量运算，直接对每个元素做运算\n",
    "nd6 = np.ones((2,3))/2\n",
    "#          [[0.5 0.5 0.5]\n",
    "#           [0.5 0.5 0.5]]\n",
    "\n",
    "print(nd5 * 2)\n",
    "print(nd5 ** 2)\n",
    "\n",
    "#矢量运算，对应元素做运算 不需要写循环\n",
    "print(nd5 + nd6)\n",
    "print(nd5 * nd6)"
   ]
  },
  {
   "cell_type": "markdown",
   "metadata": {},
   "source": [
    "### 访问 ndarray\n",
    "* 索引\n",
    "* 切片"
   ]
  },
  {
   "cell_type": "code",
   "execution_count": 8,
   "metadata": {},
   "outputs": [],
   "source": [
    "import numpy as np\n",
    "nd7 = np.random.randint(1,100,(5,6))"
   ]
  },
  {
   "cell_type": "code",
   "execution_count": 9,
   "metadata": {},
   "outputs": [
    {
     "data": {
      "text/plain": [
       "array([[10, 82, 37, 63,  6, 77],\n",
       "       [55, 22,  1, 83, 80, 58],\n",
       "       [11, 59, 26, 98, 70, 11],\n",
       "       [42, 94, 57, 65, 46, 89],\n",
       "       [78, 87, 23, 19, 79, 38]])"
      ]
     },
     "metadata": {},
     "output_type": "display_data"
    },
    {
     "data": {
      "text/plain": [
       "array([10, 82, 37, 63,  6, 77])"
      ]
     },
     "metadata": {},
     "output_type": "display_data"
    },
    {
     "data": {
      "text/plain": [
       "37"
      ]
     },
     "metadata": {},
     "output_type": "display_data"
    },
    {
     "data": {
      "text/plain": [
       "59"
      ]
     },
     "metadata": {},
     "output_type": "display_data"
    },
    {
     "data": {
      "text/plain": [
       "array([[55, 22,  1, 83, 80, 58],\n",
       "       [42, 94, 57, 65, 46, 89]])"
      ]
     },
     "metadata": {},
     "output_type": "display_data"
    },
    {
     "data": {
      "text/plain": [
       "array([[10, 82, 37, 63,  6, 77],\n",
       "       [11, 59, 26, 98, 70, 11],\n",
       "       [78, 87, 23, 19, 79, 38]])"
      ]
     },
     "metadata": {},
     "output_type": "display_data"
    }
   ],
   "source": [
    "#通过索引\n",
    "display(nd7)\n",
    "\n",
    "##访问列表的方式\n",
    "display(nd7[0])\n",
    "display(nd7[0][2])\n",
    "\n",
    "##访问矩阵的方式\n",
    "display(nd7[2,1])\n",
    "\n",
    "## 通过整数数组\n",
    "display(nd7[[1,3]])\n",
    "      \n",
    "## 通过布尔数组\n",
    "display(nd7[[True,False,True,False,True]])"
   ]
  },
  {
   "cell_type": "code",
   "execution_count": 10,
   "metadata": {},
   "outputs": [
    {
     "name": "stdout",
     "output_type": "stream",
     "text": [
      "[[10 82 37 63  6 77]\n",
      " [55 22  1 83 80 58]\n",
      " [11 59 26 98 70 11]\n",
      " [42 94 57 65 46 89]\n",
      " [78 87 23 19 79 38]]\n",
      "[[10 82 37 63  6 77]\n",
      " [55 22  1 83 80 58]]\n",
      "[[10 82 37 63  6 77]\n",
      " [55 22  1 83 80 58]]\n",
      "[55 22  1 83 80 58]\n",
      "[37  1 26 57 23]\n",
      "[[10 82 37 63  6]\n",
      " [55 22  1 83 80]\n",
      " [11 59 26 98 70]\n",
      " [42 94 57 65 46]\n",
      " [78 87 23 19 79]]\n"
     ]
    }
   ],
   "source": [
    "#切片 \n",
    "print(nd7)\n",
    "\n",
    "##从第0行到第2行，但是不包括第2行\n",
    "print(nd7[0:2]) \n",
    "\n",
    "##从第0行到第2行，但是不包括第2行，再从里面再取第0列到第2列，但是不包括第2列\n",
    "print(nd7[0:2,:])\n",
    "\n",
    "##取第[1]行\n",
    "print(nd7[1,:])\n",
    "\n",
    "##取第[2]列\n",
    "print(nd7[:,2])\n",
    "\n",
    "print(nd7[:,:-1])"
   ]
  },
  {
   "cell_type": "markdown",
   "metadata": {},
   "source": [
    "### ndarray扁平化操作\n",
    "\n",
    "* np.ravel/ravel\n",
    "* flatten \n",
    "\n",
    "我们可以通过调用ravel或flatten方法，对数组对象进行扁平化处理。  \n",
    "二者的区别在于，ravel返回原数组的视图，而flatten返回原数组的拷贝。"
   ]
  },
  {
   "cell_type": "code",
   "execution_count": 13,
   "metadata": {},
   "outputs": [
    {
     "name": "stdout",
     "output_type": "stream",
     "text": [
      "[[[ 0  1]\n",
      "  [ 2  3]]\n",
      "\n",
      " [[ 4  5]\n",
      "  [ 6  7]]\n",
      "\n",
      " [[ 8  9]\n",
      "  [10 11]]]\n",
      "******************************\n",
      "[[[ 0  1]\n",
      "  [ 2  3]]\n",
      "\n",
      " [[ 4  5]\n",
      "  [ 6  7]]\n",
      "\n",
      " [[ 8  9]\n",
      "  [10 11]]] [1000    1    2    3    4    5    6    7    8    9   10   11]\n"
     ]
    }
   ],
   "source": [
    "x = np.arange(12).reshape(3, 2, 2)\n",
    "print(x)\n",
    "\n",
    "print(\"***\"*10)\n",
    "\n",
    "#y = np.ravel(x)\n",
    "#y[0] = 1000\n",
    "#print(x, y)\n",
    "\n",
    "y = x.flatten()\n",
    "y[0] = 1000\n",
    "print(x, y)\n"
   ]
  },
  {
   "cell_type": "markdown",
   "metadata": {},
   "source": [
    "### 统计函数"
   ]
  },
  {
   "cell_type": "code",
   "execution_count": 18,
   "metadata": {},
   "outputs": [
    {
     "name": "stdout",
     "output_type": "stream",
     "text": [
      "[[60 40 65]\n",
      " [48 32 43]]\n",
      "最大值 65\n",
      "平均值 48.0\n",
      "总和 288\n",
      "方差 129.66666666666666\n"
     ]
    }
   ],
   "source": [
    "nd8 = np.random.randint(1,100,(2,3))\n",
    "print(nd8)\n",
    "print(\"最大值\",nd8.max())\n",
    "print(\"平均值\",nd8.mean())\n",
    "print(\"总和\",nd8.sum())\n",
    "print(\"方差\",nd8.var())"
   ]
  },
  {
   "cell_type": "markdown",
   "metadata": {},
   "source": [
    "# pandas快速入门\n",
    "pandas提供两个常用的数据类型：\n",
    "* Series\n",
    "    + Series类型类似于Numpy的一维数组对象，可以将该类型看做是带有标签的一维数组对象\n",
    "* DataFrame\n",
    "    + DataFrame是一个二维数据类型，我们可以将DataFrame理解成类似excel的表格型数据，由多列组成，每个列的类型可以不同。\n",
    "    + 由于DataFrame是多维数据类型，因此，DataFrame既有行索引，也有列索引。\n",
    "    \n",
    "### Series常用的创建方式：\n",
    "* 列表等可迭代对象\n",
    "* ndarray数组对象\n",
    "* 字典对象\n",
    "* 标量"
   ]
  },
  {
   "cell_type": "code",
   "execution_count": 4,
   "metadata": {},
   "outputs": [
    {
     "name": "stdout",
     "output_type": "stream",
     "text": [
      "0    1212\n",
      "1       2\n",
      "2       3\n",
      "3       4\n",
      "dtype: int64\n",
      "0    0\n",
      "1    1\n",
      "2    2\n",
      "3    3\n",
      "4    4\n",
      "5    5\n",
      "6    6\n",
      "7    7\n",
      "8    8\n",
      "9    9\n",
      "dtype: int64\n",
      "0    1\n",
      "1    2\n",
      "2    3\n",
      "3    4\n",
      "dtype: int32\n",
      "a       xy\n",
      "b    34234\n",
      "c     3243\n",
      "dtype: object\n",
      "0    33\n",
      "dtype: int64\n",
      "k    33\n",
      "x    33\n",
      "y    33\n",
      "dtype: int64\n"
     ]
    }
   ],
   "source": [
    "# 创建Series   第一列是标签(索引)\n",
    "import pandas as pd\n",
    "import numpy as np\n",
    "\n",
    "# 使用列表\n",
    "s1 = pd.Series([1212, 2, 3, 4])\n",
    "\n",
    "# 使用可迭代对象\n",
    "s2 = pd.Series(range(10))\n",
    "\n",
    "# 使用ndarray数组\n",
    "s3 = pd.Series(np.array([1, 2, 3, 4]))\n",
    "\n",
    "# 使用字典。字典的key充当索引，字典的value充当Series的值。\n",
    "s4 = pd.Series({\"a\":\"xy\", \"b\":\"34234\", \"c\":\"3243\"})\n",
    "\n",
    "# 标量,默认索引从0开始进行排列。\n",
    "s5 = pd.Series(33)\n",
    "\n",
    "# 在创建Series时，可以使用index参数来显式指定索引。\n",
    "s6 = pd.Series(33, index=[\"k\", \"x\", \"y\"])\n",
    "\n",
    "print(s1)\n",
    "print(s2)\n",
    "print(s3)\n",
    "print(s4)\n",
    "print(s5)\n",
    "print(s6)"
   ]
  },
  {
   "cell_type": "markdown",
   "metadata": {},
   "source": [
    "### Series相关特性\n",
    "Series在操作上，与Numpy数据具有如下的相似性：\n",
    "* 支持广播与矢量化运算。\n",
    "* 多个Series运算时，会根据索引进行对齐。当索引无法匹配时，结果值为NaN（缺失值）\n",
    "* 支持索引与切片。\n",
    "* 支持整数数组与布尔数组提取元素。\n",
    "\n",
    "说明：\n",
    "* 我们可以通过 pandas 或 Series 的 isnull 与 notnull 来判断数据是否缺失。\n",
    "* 除了运算符以外，我们也可以使用 Series 对象提供的相关方法进行运算【可以指定缺失的填充值】。\n",
    "* 尽管 Numpy 的一些函数，也适用于 Series 类型，但 Series 与 ndarray 数组对于空值NaN的计算处理方式上是不同的。【Numpy的计算，会得到NaN，而Series会忽略NaN】"
   ]
  },
  {
   "cell_type": "code",
   "execution_count": 17,
   "metadata": {},
   "outputs": [
    {
     "name": "stdout",
     "output_type": "stream",
     "text": [
      "0     5\n",
      "1    10\n",
      "2    15\n",
      "dtype: int64\n",
      "2.0\n"
     ]
    }
   ],
   "source": [
    "s = pd.Series([1, 2, 3])\n",
    "s2 = pd.Series([4, 5, 6])\n",
    "\n",
    "# 矢量运算\n",
    "#print(s * s2)\n",
    "\n",
    "# 标量运算\n",
    "print(s * 5)\n",
    "\n",
    "# 对于numpy的一些函数，例如mean，sum等，也适用于Series。\n",
    "#  s type为int64，但是用了mean输出的是float\n",
    "print(np.mean(s))\n",
    "\n",
    "s = pd.Series([1, 2, 3], index=[1, 2, 3])\n",
    "s2 = pd.Series([4, 5, 6], index=[2, 3, 4])\n",
    "#print(s)\n",
    "#print(s2)\n",
    "# Series与ndarray数组计算的不同。Series运行时，会根据标签进行对齐，如果标签无法匹配（对齐），就会产生空值（NaN）。\n",
    "#print(s + s2)\n",
    "\n",
    "# 如果不想产生空值，则可以使用Series提供的计算方法来代替运算符的计算。\n",
    "#print(s.add(s2, fill_value=100))\n",
    "\n",
    "# 判断是否为空值。\n",
    "#s = pd.Series([1, 2, 3, float(\"NaN\"), np.nan])\n",
    "#print(s.isnull())\n",
    "\n",
    "# 判断是否不是空值。\n",
    "#print(pd.notnull(s))\n",
    "\n",
    "# np.mean, np.sum等函数，在处理ndarray数组与Series时，表现不同:\n",
    "#   Numpy的计算，会得到NaN，而Series会忽略NaN\n",
    "# a = np.array([1, 2, 3, 4, np.nan])\n",
    "# s = pd.Series([1, 2, 3, 4, np.nan])\n",
    "# print(np.mean(a))\n",
    "# print(np.mean(s))\n"
   ]
  },
  {
   "cell_type": "markdown",
   "metadata": {},
   "source": [
    "### 索引\n",
    "#### 标签索引与位置索引\n",
    "如果 Series 对象的 index 值为非数值类型，通过 \\[索引\\] 访问元素，索引既可以是标签索引，也可以是位置索引。这会在一定程度上造成混淆。我们可以通过：\n",
    "* loc 仅通过标签索引访问。\n",
    "* iloc 仅通过位置索引访问。\n",
    "\n",
    "这样，就可以更加具有针对性去访问元素。\n"
   ]
  },
  {
   "cell_type": "code",
   "execution_count": 37,
   "metadata": {},
   "outputs": [
    {
     "name": "stdout",
     "output_type": "stream",
     "text": [
      "2\n",
      "1\n"
     ]
    }
   ],
   "source": [
    "s = pd.Series([1, 2, 3], index=list(\"abc\"))\n",
    "print(s.loc[\"b\"])\n",
    "print(s.iloc[0])"
   ]
  },
  {
   "cell_type": "markdown",
   "metadata": {},
   "source": [
    "### 切片\n"
   ]
  },
  {
   "cell_type": "code",
   "execution_count": 38,
   "metadata": {},
   "outputs": [
    {
     "name": "stdout",
     "output_type": "stream",
     "text": [
      "a    1\n",
      "b    2\n",
      "c    3\n",
      "dtype: int64\n",
      "a    1\n",
      "b    2\n",
      "c    3\n",
      "d    4\n",
      "dtype: int64\n"
     ]
    }
   ],
   "source": [
    "# Series的索引分为标签索引与位置索引，二者在切片的行为上是不一致的。\n",
    "# 通过位置索引切片，不包含末尾的值，通过标签索引切片，包含末尾的值。\n",
    "\n",
    "s = pd.Series([1, 2, 3, 4], index=list(\"abcd\"))\n",
    "# 通过位置索引切片\n",
    "print(s.iloc[0:3])\n",
    "# 通过标签索引切片\n",
    "print(s.loc[\"a\":\"d\"])"
   ]
  },
  {
   "cell_type": "markdown",
   "metadata": {},
   "source": [
    "### Series的CRUD\n",
    "Series索引-数值CRUD操作：\n",
    "* 获取值\n",
    "* 修改值\n",
    "* 增加索引-值\n",
    "* 删除索引-值"
   ]
  },
  {
   "cell_type": "code",
   "execution_count": 43,
   "metadata": {},
   "outputs": [
    {
     "name": "stdout",
     "output_type": "stream",
     "text": [
      "None\n",
      "a                   3000\n",
      "d                      4\n",
      "new_key    123123sdfsadf\n",
      "dtype: object\n"
     ]
    }
   ],
   "source": [
    "s = pd.Series([1, 2, 3, 4], index=list(\"abcd\"))\n",
    "\n",
    "# 获取值，通过标签索引或位置索引（或者是二者的数组）\n",
    "#Sprint(s.loc[\"a\"])\n",
    "\n",
    "# 修改值\n",
    "s.loc[\"a\"] = 3000\n",
    "\n",
    "\n",
    "# 增加值 就可以像字典那样进行操作\n",
    "s[\"new_key\"] = \"123123sdfsadf\"\n",
    "\n",
    "# 删除值 类似字典的操作\n",
    "#del s[\"a\"]\n",
    "\n",
    "\n",
    "# 删除值，通过drop方法。\n",
    "# inplace参数表示就地修改。如果指定为True，则不会返回修改修改后的结果（返回None）。\n",
    "#print(s.drop(\"d\", inplace=True))\n",
    "\n",
    "# 可以提供一个标签列表，删除多个值。\n",
    "print(s.drop([\"b\", \"c\"], inplace=True))\n",
    "\n",
    "print(s)\n"
   ]
  },
  {
   "cell_type": "markdown",
   "metadata": {},
   "source": [
    "### DataFrame创建方式\n",
    "我们可以使用如下的方式创建 DataFrame 类型的对象：\n",
    "* 二维数组结构（列表,ndarray数组，DataFrame等）类型。\n",
    "* 字典类型，key为列名，value为一维数组结构（列表，ndarray数组,Series等）。\n",
    "\n",
    "说明：\n",
    "* 如果没有显式指定行与列索引，则会自动生成以 0 开始的整数值索引。我们可以在创建DataFrame 对象时，通过 index 与 columns 参数指定。\n",
    "* 可以通过 head，tail 访问前 / 后 N 行记录（数据）。"
   ]
  },
  {
   "cell_type": "code",
   "execution_count": 18,
   "metadata": {},
   "outputs": [
    {
     "name": "stdout",
     "output_type": "stream",
     "text": [
      "          0         1         2         3         4\n",
      "0  0.410662  0.101513  0.587158  0.978215  0.429340\n",
      "1  0.712213  0.388142  0.216256  0.249963  0.154190\n",
      "2  0.327874  0.819344  0.909206  0.032725  0.373376\n",
      "    北京   天津   上海\n",
      "0  100  109   39\n",
      "1  200  203   90\n",
      "2  125  123  300\n",
      "    北京   天津  上海\n",
      "0  100  109  39\n",
      "1  200  203  90\n",
      "    北京   天津   上海\n",
      "1  200  203   90\n",
      "2  125  123  300\n",
      "           北京        上海        广州        深圳        武汉\n",
      "地区1  0.822757  0.122820  0.159488  0.252913  0.238214\n",
      "地区2  0.914401  0.033803  0.867537  0.593349  0.729981\n",
      "地区3  0.514004  0.867152  0.846361  0.854198  0.181037\n"
     ]
    }
   ],
   "source": [
    "# 使用二维数据结构创建DataFrame\n",
    "df1 = pd.DataFrame(np.random.rand(3, 5))\n",
    "\n",
    "# 使用字典来创建DataFrame。一个键值对为一列。key指定列索引，value指定该列的值。\n",
    "df2 = pd.DataFrame({\"北京\":[100, 200, 125], \n",
    "                    \"天津\":[109, 203, 123], \n",
    "                    \"上海\":[39, 90, 300]})\n",
    "print(df1)\n",
    "print(df2)\n",
    "\n",
    "# 显示前（后）N条记录\n",
    "print(df2.head(2))\n",
    "print(df2.tail(2))\n",
    "\n",
    "# 创建DataFrame，指定行，列索引。\n",
    "df3 = pd.DataFrame(np.random.rand(3, 5), \n",
    "                   index=[\"地区1\", \"地区2\", \"地区3\"], \n",
    "                   columns=[\"北京\", \"上海\",\"广州\", \"深圳\",\"武汉\"])\n",
    "print(df3)"
   ]
  },
  {
   "cell_type": "markdown",
   "metadata": {},
   "source": [
    "### 相关属性\n",
    "* index\n",
    "* columns\n",
    "* values\n",
    "* shape\n",
    "* ndim\n",
    "* dtypes\n",
    "\n",
    "说明：\n",
    "* 可以通过index访问行索引，columns访问列索引，values访问数据，其中index与columns也可以进行设置（修改）。\n",
    "* 可以为DataFrame的index与columns属性指定name属性值。\n",
    "* DataFrame的数据不能超过二维。"
   ]
  },
  {
   "cell_type": "code",
   "execution_count": 5,
   "metadata": {},
   "outputs": [
    {
     "name": "stdout",
     "output_type": "stream",
     "text": [
      "           北京        天津        上海        沈阳        广州\n",
      "地区1  0.080318  0.970880  0.904086  0.954917  0.242074\n",
      "地区2  0.373977  0.568344  0.301029  0.872384  0.822505\n",
      "地区3  0.679750  0.791653  0.598111  0.845888  0.689205\n",
      "Index(['地区1', '地区2', '地区3'], dtype='object')\n",
      "Index(['北京', '天津', '上海', '沈阳', '广州'], dtype='object')\n",
      "[[0.08031836 0.97087983 0.90408598 0.95491728 0.24207361]\n",
      " [0.37397678 0.56834381 0.30102935 0.87238379 0.82250477]\n",
      " [0.67974998 0.79165314 0.59811129 0.84588766 0.68920538]]\n",
      "(3, 5)\n",
      "2\n",
      "北京    float64\n",
      "天津    float64\n",
      "上海    float64\n",
      "沈阳    float64\n",
      "广州    float64\n",
      "dtype: object\n",
      "columns_name        北京        天津        上海        沈阳        广州\n",
      "index_name                                                    \n",
      "r1            0.080318  0.970880  0.904086  0.954917  0.242074\n",
      "r2            0.373977  0.568344  0.301029  0.872384  0.822505\n",
      "r3            0.679750  0.791653  0.598111  0.845888  0.689205\n"
     ]
    },
    {
     "ename": "ValueError",
     "evalue": "Must pass 2-d input",
     "output_type": "error",
     "traceback": [
      "\u001b[1;31m---------------------------------------------------------------------------\u001b[0m",
      "\u001b[1;31mValueError\u001b[0m                                Traceback (most recent call last)",
      "\u001b[1;32m<ipython-input-5-0d7ba491a289>\u001b[0m in \u001b[0;36m<module>\u001b[1;34m\u001b[0m\n\u001b[0;32m     27\u001b[0m \u001b[1;33m\u001b[0m\u001b[0m\n\u001b[0;32m     28\u001b[0m \u001b[1;31m# 错误，超过了2d。\u001b[0m\u001b[1;33m\u001b[0m\u001b[1;33m\u001b[0m\u001b[1;33m\u001b[0m\u001b[0m\n\u001b[1;32m---> 29\u001b[1;33m \u001b[0mdf_more_than2d\u001b[0m \u001b[1;33m=\u001b[0m \u001b[0mpd\u001b[0m\u001b[1;33m.\u001b[0m\u001b[0mDataFrame\u001b[0m\u001b[1;33m(\u001b[0m\u001b[0mnp\u001b[0m\u001b[1;33m.\u001b[0m\u001b[0mrandom\u001b[0m\u001b[1;33m.\u001b[0m\u001b[0mrand\u001b[0m\u001b[1;33m(\u001b[0m\u001b[1;36m3\u001b[0m\u001b[1;33m,\u001b[0m \u001b[1;36m3\u001b[0m\u001b[1;33m,\u001b[0m \u001b[1;36m3\u001b[0m\u001b[1;33m)\u001b[0m\u001b[1;33m)\u001b[0m\u001b[1;33m\u001b[0m\u001b[1;33m\u001b[0m\u001b[0m\n\u001b[0m",
      "\u001b[1;32mF:\\Anaconda\\lib\\site-packages\\pandas\\core\\frame.py\u001b[0m in \u001b[0;36m__init__\u001b[1;34m(self, data, index, columns, dtype, copy)\u001b[0m\n\u001b[0;32m    422\u001b[0m             \u001b[1;32melse\u001b[0m\u001b[1;33m:\u001b[0m\u001b[1;33m\u001b[0m\u001b[1;33m\u001b[0m\u001b[0m\n\u001b[0;32m    423\u001b[0m                 mgr = init_ndarray(data, index, columns, dtype=dtype,\n\u001b[1;32m--> 424\u001b[1;33m                                    copy=copy)\n\u001b[0m\u001b[0;32m    425\u001b[0m \u001b[1;33m\u001b[0m\u001b[0m\n\u001b[0;32m    426\u001b[0m         \u001b[1;31m# For data is list-like, or Iterable (will consume into list)\u001b[0m\u001b[1;33m\u001b[0m\u001b[1;33m\u001b[0m\u001b[1;33m\u001b[0m\u001b[0m\n",
      "\u001b[1;32mF:\\Anaconda\\lib\\site-packages\\pandas\\core\\internals\\construction.py\u001b[0m in \u001b[0;36minit_ndarray\u001b[1;34m(values, index, columns, dtype, copy)\u001b[0m\n\u001b[0;32m    144\u001b[0m     \u001b[1;31m# by definition an array here\u001b[0m\u001b[1;33m\u001b[0m\u001b[1;33m\u001b[0m\u001b[1;33m\u001b[0m\u001b[0m\n\u001b[0;32m    145\u001b[0m     \u001b[1;31m# the dtypes will be coerced to a single dtype\u001b[0m\u001b[1;33m\u001b[0m\u001b[1;33m\u001b[0m\u001b[1;33m\u001b[0m\u001b[0m\n\u001b[1;32m--> 146\u001b[1;33m     \u001b[0mvalues\u001b[0m \u001b[1;33m=\u001b[0m \u001b[0mprep_ndarray\u001b[0m\u001b[1;33m(\u001b[0m\u001b[0mvalues\u001b[0m\u001b[1;33m,\u001b[0m \u001b[0mcopy\u001b[0m\u001b[1;33m=\u001b[0m\u001b[0mcopy\u001b[0m\u001b[1;33m)\u001b[0m\u001b[1;33m\u001b[0m\u001b[1;33m\u001b[0m\u001b[0m\n\u001b[0m\u001b[0;32m    147\u001b[0m \u001b[1;33m\u001b[0m\u001b[0m\n\u001b[0;32m    148\u001b[0m     \u001b[1;32mif\u001b[0m \u001b[0mdtype\u001b[0m \u001b[1;32mis\u001b[0m \u001b[1;32mnot\u001b[0m \u001b[1;32mNone\u001b[0m\u001b[1;33m:\u001b[0m\u001b[1;33m\u001b[0m\u001b[1;33m\u001b[0m\u001b[0m\n",
      "\u001b[1;32mF:\\Anaconda\\lib\\site-packages\\pandas\\core\\internals\\construction.py\u001b[0m in \u001b[0;36mprep_ndarray\u001b[1;34m(values, copy)\u001b[0m\n\u001b[0;32m    247\u001b[0m         \u001b[0mvalues\u001b[0m \u001b[1;33m=\u001b[0m \u001b[0mvalues\u001b[0m\u001b[1;33m.\u001b[0m\u001b[0mreshape\u001b[0m\u001b[1;33m(\u001b[0m\u001b[1;33m(\u001b[0m\u001b[0mvalues\u001b[0m\u001b[1;33m.\u001b[0m\u001b[0mshape\u001b[0m\u001b[1;33m[\u001b[0m\u001b[1;36m0\u001b[0m\u001b[1;33m]\u001b[0m\u001b[1;33m,\u001b[0m \u001b[1;36m1\u001b[0m\u001b[1;33m)\u001b[0m\u001b[1;33m)\u001b[0m\u001b[1;33m\u001b[0m\u001b[1;33m\u001b[0m\u001b[0m\n\u001b[0;32m    248\u001b[0m     \u001b[1;32melif\u001b[0m \u001b[0mvalues\u001b[0m\u001b[1;33m.\u001b[0m\u001b[0mndim\u001b[0m \u001b[1;33m!=\u001b[0m \u001b[1;36m2\u001b[0m\u001b[1;33m:\u001b[0m\u001b[1;33m\u001b[0m\u001b[1;33m\u001b[0m\u001b[0m\n\u001b[1;32m--> 249\u001b[1;33m         \u001b[1;32mraise\u001b[0m \u001b[0mValueError\u001b[0m\u001b[1;33m(\u001b[0m\u001b[1;34m'Must pass 2-d input'\u001b[0m\u001b[1;33m)\u001b[0m\u001b[1;33m\u001b[0m\u001b[1;33m\u001b[0m\u001b[0m\n\u001b[0m\u001b[0;32m    250\u001b[0m \u001b[1;33m\u001b[0m\u001b[0m\n\u001b[0;32m    251\u001b[0m     \u001b[1;32mreturn\u001b[0m \u001b[0mvalues\u001b[0m\u001b[1;33m\u001b[0m\u001b[1;33m\u001b[0m\u001b[0m\n",
      "\u001b[1;31mValueError\u001b[0m: Must pass 2-d input"
     ]
    }
   ],
   "source": [
    "df = pd.DataFrame(np.random.rand(3, 5), \n",
    "                  index=[\"地区1\", \"地区2\", \"地区3\"], \n",
    "                  columns=[\"北京\",\"天津\", \"上海\",\"沈阳\", \"广州\"])\n",
    "print(df)\n",
    "# 返回行索引\n",
    "print(df.index)\n",
    "\n",
    "# 返回列索引\n",
    "print(df.columns)\n",
    "\n",
    "# 返回DataFrame关联的ndarray数组\n",
    "print(df.values)\n",
    "\n",
    "# 返回形状\n",
    "print(df.shape)\n",
    "\n",
    "# 返回维度\n",
    "print(df.ndim)\n",
    "\n",
    "# 返回各列的类型信息。\n",
    "print(df.dtypes)\n",
    "\n",
    "df.index = [\"r1\", \"r2\", \"r3\"]\n",
    "df.index.name = \"index_name\"\n",
    "df.columns.name = \"columns_name\"\n",
    "print(df)\n",
    "\n",
    "# 错误，超过了2d。\n",
    "df_more_than2d = pd.DataFrame(np.random.rand(3, 3, 3))\n"
   ]
  },
  {
   "cell_type": "code",
   "execution_count": 6,
   "metadata": {},
   "outputs": [
    {
     "data": {
      "text/html": [
       "<div>\n",
       "<style scoped>\n",
       "    .dataframe tbody tr th:only-of-type {\n",
       "        vertical-align: middle;\n",
       "    }\n",
       "\n",
       "    .dataframe tbody tr th {\n",
       "        vertical-align: top;\n",
       "    }\n",
       "\n",
       "    .dataframe thead th {\n",
       "        text-align: right;\n",
       "    }\n",
       "</style>\n",
       "<table border=\"1\" class=\"dataframe\">\n",
       "  <thead>\n",
       "    <tr style=\"text-align: right;\">\n",
       "      <th></th>\n",
       "      <th>a</th>\n",
       "      <th>b</th>\n",
       "      <th>c</th>\n",
       "      <th>d</th>\n",
       "      <th>e</th>\n",
       "    </tr>\n",
       "  </thead>\n",
       "  <tbody>\n",
       "    <tr>\n",
       "      <th>h</th>\n",
       "      <td>0.007391</td>\n",
       "      <td>0.013576</td>\n",
       "      <td>0.841138</td>\n",
       "      <td>0.427014</td>\n",
       "      <td>0.505350</td>\n",
       "    </tr>\n",
       "    <tr>\n",
       "      <th>i</th>\n",
       "      <td>0.359108</td>\n",
       "      <td>0.016019</td>\n",
       "      <td>0.502763</td>\n",
       "      <td>0.528882</td>\n",
       "      <td>0.483743</td>\n",
       "    </tr>\n",
       "    <tr>\n",
       "      <th>j</th>\n",
       "      <td>0.467211</td>\n",
       "      <td>0.129864</td>\n",
       "      <td>0.091134</td>\n",
       "      <td>0.040434</td>\n",
       "      <td>0.933219</td>\n",
       "    </tr>\n",
       "    <tr>\n",
       "      <th>k</th>\n",
       "      <td>0.802656</td>\n",
       "      <td>0.704974</td>\n",
       "      <td>0.863050</td>\n",
       "      <td>0.863070</td>\n",
       "      <td>0.217961</td>\n",
       "    </tr>\n",
       "    <tr>\n",
       "      <th>l</th>\n",
       "      <td>0.253753</td>\n",
       "      <td>0.272212</td>\n",
       "      <td>0.341939</td>\n",
       "      <td>0.215274</td>\n",
       "      <td>0.160895</td>\n",
       "    </tr>\n",
       "  </tbody>\n",
       "</table>\n",
       "</div>"
      ],
      "text/plain": [
       "          a         b         c         d         e\n",
       "h  0.007391  0.013576  0.841138  0.427014  0.505350\n",
       "i  0.359108  0.016019  0.502763  0.528882  0.483743\n",
       "j  0.467211  0.129864  0.091134  0.040434  0.933219\n",
       "k  0.802656  0.704974  0.863050  0.863070  0.217961\n",
       "l  0.253753  0.272212  0.341939  0.215274  0.160895"
      ]
     },
     "metadata": {},
     "output_type": "display_data"
    },
    {
     "data": {
      "text/plain": [
       "a    0.359108\n",
       "b    0.016019\n",
       "c    0.502763\n",
       "d    0.528882\n",
       "e    0.483743\n",
       "Name: i, dtype: float64"
      ]
     },
     "metadata": {},
     "output_type": "display_data"
    },
    {
     "data": {
      "text/plain": [
       "a    0.467211\n",
       "b    0.129864\n",
       "c    0.091134\n",
       "d    0.040434\n",
       "e    0.933219\n",
       "Name: j, dtype: float64"
      ]
     },
     "metadata": {},
     "output_type": "display_data"
    },
    {
     "data": {
      "text/html": [
       "<div>\n",
       "<style scoped>\n",
       "    .dataframe tbody tr th:only-of-type {\n",
       "        vertical-align: middle;\n",
       "    }\n",
       "\n",
       "    .dataframe tbody tr th {\n",
       "        vertical-align: top;\n",
       "    }\n",
       "\n",
       "    .dataframe thead th {\n",
       "        text-align: right;\n",
       "    }\n",
       "</style>\n",
       "<table border=\"1\" class=\"dataframe\">\n",
       "  <thead>\n",
       "    <tr style=\"text-align: right;\">\n",
       "      <th></th>\n",
       "      <th>a</th>\n",
       "      <th>b</th>\n",
       "      <th>c</th>\n",
       "      <th>d</th>\n",
       "      <th>e</th>\n",
       "    </tr>\n",
       "  </thead>\n",
       "  <tbody>\n",
       "    <tr>\n",
       "      <th>i</th>\n",
       "      <td>0.359108</td>\n",
       "      <td>0.016019</td>\n",
       "      <td>0.502763</td>\n",
       "      <td>0.528882</td>\n",
       "      <td>0.483743</td>\n",
       "    </tr>\n",
       "    <tr>\n",
       "      <th>k</th>\n",
       "      <td>0.802656</td>\n",
       "      <td>0.704974</td>\n",
       "      <td>0.863050</td>\n",
       "      <td>0.863070</td>\n",
       "      <td>0.217961</td>\n",
       "    </tr>\n",
       "    <tr>\n",
       "      <th>l</th>\n",
       "      <td>0.253753</td>\n",
       "      <td>0.272212</td>\n",
       "      <td>0.341939</td>\n",
       "      <td>0.215274</td>\n",
       "      <td>0.160895</td>\n",
       "    </tr>\n",
       "    <tr>\n",
       "      <th>p</th>\n",
       "      <td>23.000000</td>\n",
       "      <td>33.000000</td>\n",
       "      <td>12.000000</td>\n",
       "      <td>334.220000</td>\n",
       "      <td>200.000000</td>\n",
       "    </tr>\n",
       "  </tbody>\n",
       "</table>\n",
       "</div>"
      ],
      "text/plain": [
       "           a          b          c           d           e\n",
       "i   0.359108   0.016019   0.502763    0.528882    0.483743\n",
       "k   0.802656   0.704974   0.863050    0.863070    0.217961\n",
       "l   0.253753   0.272212   0.341939    0.215274    0.160895\n",
       "p  23.000000  33.000000  12.000000  334.220000  200.000000"
      ]
     },
     "metadata": {},
     "output_type": "display_data"
    }
   ],
   "source": [
    "df = pd.DataFrame(np.random.rand(5, 5), columns=list(\"abcde\"), index=list(\"hijkl\"))\n",
    "display(df)\n",
    "# DataFrame行操作\n",
    "# 获取行 loc   iloc   ix\n",
    "# loc 根据标签获取\n",
    "# iloc 根据位置获取\n",
    "display(df.loc[\"i\"])\n",
    "display(df.iloc[2])\n",
    "\n",
    "# 增加一行\n",
    "line = pd.Series([23, 33, 12., 334.22, 200], index=list(\"abcde\"), name=\"p\")\n",
    "df = df.append(line)\n",
    "\n",
    "# 删除指定行\n",
    "df = df.drop([\"h\", \"j\"])\n",
    "\n",
    "display(df)"
   ]
  },
  {
   "cell_type": "markdown",
   "metadata": {},
   "source": [
    "### 排序\n",
    "#### 索引排序\n",
    "Series与DataFrame对象可以使用sort_index方法对索引进行排序。DataFrame对象在排序时，还可以通过axis参数来指定轴（行索引还是列索引）。也可以通过ascending参数指定升序还是降序。\n",
    "#### 值排序\n",
    "Series与DataFrame对象可以使用sort_values方法对值进行排序。"
   ]
  },
  {
   "cell_type": "code",
   "execution_count": 28,
   "metadata": {},
   "outputs": [
    {
     "name": "stdout",
     "output_type": "stream",
     "text": [
      "   c  b\n",
      "2  1  4\n",
      "1  3  2\n",
      "   c  b\n",
      "1  3  2\n",
      "2  1  4\n"
     ]
    }
   ],
   "source": [
    "df = pd.DataFrame([[1, 4],\n",
    "                   [3, 2]], \n",
    "                  index=[2 ,1], columns=list(\"cb\"))\n",
    "print(df)\n",
    "print(df.sort_values(\"b\"))"
   ]
  },
  {
   "cell_type": "markdown",
   "metadata": {},
   "source": [
    "### 统计"
   ]
  },
  {
   "cell_type": "code",
   "execution_count": 8,
   "metadata": {},
   "outputs": [
    {
     "name": "stdout",
     "output_type": "stream",
     "text": [
      "          a         b         c         d         e\n",
      "h  0.522830  0.627477  0.382033  0.736568  0.026439\n",
      "i  0.728560  0.196987  0.578368  0.491608  0.913291\n",
      "j  0.727968  0.176615  0.725070  0.726866  0.480751\n",
      "k  0.942187  0.963218  0.322355  0.024683  0.874741\n",
      "l  0.078274  0.615003  0.901357  0.858762  0.617324\n",
      "<class 'pandas.core.frame.DataFrame'>\n",
      "Index: 5 entries, h to l\n",
      "Data columns (total 5 columns):\n",
      "a    5 non-null float64\n",
      "b    5 non-null float64\n",
      "c    5 non-null float64\n",
      "d    5 non-null float64\n",
      "e    5 non-null float64\n",
      "dtypes: float64(5)\n",
      "memory usage: 240.0+ bytes\n",
      "None\n",
      "              a         b         c         d         e\n",
      "count  5.000000  5.000000  5.000000  5.000000  5.000000\n",
      "mean   0.599964  0.515860  0.581837  0.567698  0.582509\n",
      "std    0.327165  0.331355  0.239726  0.331370  0.359025\n",
      "min    0.078274  0.176615  0.322355  0.024683  0.026439\n",
      "25%    0.522830  0.196987  0.382033  0.491608  0.480751\n",
      "50%    0.727968  0.615003  0.578368  0.726866  0.617324\n",
      "75%    0.728560  0.627477  0.725070  0.736568  0.874741\n",
      "max    0.942187  0.963218  0.901357  0.858762  0.913291\n"
     ]
    }
   ],
   "source": [
    "df = pd.DataFrame(np.random.rand(5, 5),\n",
    "                  columns=list(\"abcde\"), \n",
    "                  index=list(\"hijkl\"))\n",
    "print(df)\n",
    "print(df.info())\n",
    "print(df.describe())"
   ]
  },
  {
   "cell_type": "markdown",
   "metadata": {},
   "source": [
    "## matplotlib的简单使用"
   ]
  },
  {
   "cell_type": "code",
   "execution_count": 10,
   "metadata": {},
   "outputs": [
    {
     "data": {
      "text/plain": [
       "<matplotlib.legend.Legend at 0x2bd600e2320>"
      ]
     },
     "execution_count": 10,
     "metadata": {},
     "output_type": "execute_result"
    }
   ],
   "source": [
    "# 2D图\n",
    "import matplotlib.pyplot as plt\n",
    "import numpy as np\n",
    "\n",
    "%matplotlib qt\n",
    "#解决qt中文乱码\n",
    "plt.rcParams[\"font.family\"] = \"SimHei\"\n",
    "plt.rcParams[\"axes.unicode_minus\"] = False\n",
    "\n",
    "x = np.linspace(-10, 10, 200)\n",
    "# print(x,type(x),x.shape)\n",
    "\n",
    "y1 = 2 * x + 10\n",
    "y2 = x ** 2\n",
    "\n",
    "# 创建画布\n",
    "plt.figure()\n",
    "#绘制直线\n",
    "plt.plot(x, y1,\"g-\",label=\"直线\")\n",
    "#绘制抛物线\n",
    "plt.plot(x, y2, \"r-\", linewidth = 1.0, linestyle = '--',label=\"抛物线\")\n",
    "\n",
    "plt.xlabel('x轴')\n",
    "plt.ylabel('y轴')\n",
    "plt.legend()\n",
    "#plt.show()"
   ]
  },
  {
   "cell_type": "code",
   "execution_count": 11,
   "metadata": {},
   "outputs": [],
   "source": [
    "# 3D曲面图\n",
    "import matplotlib.pyplot as plt\n",
    "import numpy as np\n",
    "from mpl_toolkits.mplot3d import Axes3D\n",
    "\n",
    "\n",
    "%matplotlib qt\n",
    "#%matplotlib inline\n",
    "\n",
    "# 定义figure\n",
    "fig = plt.figure()\n",
    "# 将figure变为3d\n",
    "ax = Axes3D(fig)\n",
    "\n",
    "# 定义x, y\n",
    "x = np.arange(-4, 4, 0.2)\n",
    "y = np.arange(-4, 4, 0.2)\n",
    "\n",
    "# 生成网格数据\n",
    "X, Y = np.meshgrid(x, y)\n",
    "\n",
    "# 计算每个点对的长度\n",
    "R = np.sqrt(X ** 2 + Y ** 2)\n",
    "# 计算Z轴的高度\n",
    "Z = np.sin(R)\n",
    "\n",
    "# 绘制3D曲面\n",
    "ax.plot_surface(X, Y, Z, rstride = 1, cstride = 1, cmap = 'rainbow',alpha=0.8)\n",
    "# 绘制从3D曲面到底部的投影\n",
    "# ax.contour(X, Y, Z, zdir = 'z', offset = -2, cmap = 'rainbow')\n",
    "# 设置z轴的维度\n",
    "ax.set_zlim(-2, 2)\n",
    "\n",
    "plt.show()\n"
   ]
  },
  {
   "cell_type": "code",
   "execution_count": 12,
   "metadata": {},
   "outputs": [],
   "source": [
    "# 3D散点图\n",
    "import numpy as np\n",
    "import matplotlib.pyplot as plt\n",
    "from mpl_toolkits.mplot3d import Axes3D\n",
    "\n",
    "%matplotlib qt\n",
    "\n",
    "fig = plt.figure()\n",
    "ax = Axes3D(fig)\n",
    " \n",
    "x = np.random.randint(0, 500,100)\n",
    "y = np.random.randint(0, 500,100)\n",
    "z = np.random.randint(-200,200,100)\n",
    "y3 = np.arctan2(x,y)\n",
    "ax.scatter(x, y, z,c=y3, marker='.', s=1500)\n",
    "plt.show()"
   ]
  },
  {
   "cell_type": "code",
   "execution_count": null,
   "metadata": {},
   "outputs": [],
   "source": []
  }
 ],
 "metadata": {
  "kernelspec": {
   "display_name": "Python 3",
   "language": "python",
   "name": "python3"
  },
  "language_info": {
   "codemirror_mode": {
    "name": "ipython",
    "version": 3
   },
   "file_extension": ".py",
   "mimetype": "text/x-python",
   "name": "python",
   "nbconvert_exporter": "python",
   "pygments_lexer": "ipython3",
   "version": "3.7.3"
  }
 },
 "nbformat": 4,
 "nbformat_minor": 2
}
