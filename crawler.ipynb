{
 "cells": [
  {
   "cell_type": "code",
   "execution_count": 8,
   "metadata": {},
   "outputs": [],
   "source": [
    "?string"
   ]
  },
  {
   "cell_type": "code",
   "execution_count": null,
   "metadata": {},
   "outputs": [
    {
     "name": "stdout",
     "output_type": "stream",
     "text": [
      "憨豆先生精选辑  9.6  罗温·艾金森 Paul Bown 理查德·布赖尔斯 Angus Deayton 罗宾·德里斯科尔 卡罗琳·昆汀 Rudolph Walker 理查德·威尔逊  https://img3.doubanio.com/view/photo/i/public/p2354179225.jpg  英国  1997  喜剧\n",
      "\n",
      "美丽人生  9.5  罗伯托·贝尼尼 尼可莱塔·布拉斯基 乔治·坎塔里尼 朱斯蒂诺·杜拉诺 赛尔乔·比尼·布斯特里克 玛丽萨·帕雷德斯 霍斯特·布赫霍尔茨 利迪娅·阿方西 朱利亚娜·洛约迪切 亚美利哥·丰塔尼 彼得·德·席尔瓦 弗朗西斯·古佐 拉法埃拉·莱博罗尼 克劳迪奥·阿方西 吉尔·巴罗尼 马西莫·比安奇 恩尼奥·孔萨尔维 吉安卡尔洛·科森蒂诺 阿伦·克雷格 汉尼斯·赫尔曼 弗兰科·梅斯科利尼 安东尼奥·普雷斯特 吉娜·诺维勒 理查德·塞梅尔 安德烈提多娜 迪尔克·范登贝格 奥梅罗·安东努蒂 李靖飞 沈晓谦 张欣  https://img3.doubanio.com/view/photo/i/public/p510861873.jpg  意大利  1997-12-20  剧情 喜剧 爱情 战争\n",
      "\n",
      "福尔摩斯二世  9.4  巴斯特·基顿 凯瑟琳·麦奎尔 乔·基顿  https://img1.doubanio.com/view/photo/i/public/p2206737207.jpg  美国  1924-04-21  喜剧 奇幻\n",
      "\n",
      "城市之光  9.3  查理·卓别林 弗吉尼亚·切瑞尔 佛罗伦斯·李 亨利·伯格曼 珍·哈露 哈利·迈耶斯 约翰兰德 罗伯特·帕里什 罗伯特·格雷夫斯  https://img1.doubanio.com/view/photo/i/public/p2170238828.jpg  美国  1931-01-30  喜剧 剧情 爱情\n",
      "\n",
      "极品基老伴：完结篇  9.3  伊恩·麦克莱恩 德里克·雅各比 弗朗西斯·德·拉·图瓦 伊万·瑞恩 玛西娅·沃伦 菲利普-沃斯 艾琳·阿特金斯 弗兰西斯·巴贝 阿利斯泰尔·布拉默 理查德·加德  https://img3.doubanio.com/view/photo/i/public/p2509440210.jpg  英国  2016-06-19  喜剧 同性\n",
      "\n",
      "西蒙·阿姆斯特尔：顺其自然  9.3  西蒙·阿姆斯特尔  https://img3.doubanio.com/view/photo/i/public/p2184490255.jpg  英国  2010  喜剧\n",
      "\n",
      "三傻大闹宝莱坞  9.2  阿米尔·汗 卡琳娜·卡普尔 马达范 沙尔曼·乔希 奥米·瓦依达 博曼·伊拉尼 莫娜·辛格 拉杰夫·拉宾德拉纳特安 Atul Tiwari 阿里·扎勒 帕里卡沙特.萨赫尼 Rakesh Sharma Javed Jaffrey  https://img3.doubanio.com/view/photo/i/public/p579729551.jpg  印度  2011-12-08  剧情 喜剧 爱情 歌舞\n",
      "\n",
      "Error: unable to fecth data\n",
      "疯狂动物城  9.2  金妮弗·古德温 杰森·贝特曼 伊德里斯·艾尔巴 珍妮·斯蕾特 内特·托伦斯 邦尼·亨特 唐·雷克 汤米·钟 J·K·西蒙斯 奥克塔维亚·斯宾瑟 艾伦·图代克 夏奇拉 雷蒙德·S·佩尔西 德拉·萨巴 莫里斯·拉马奇 菲尔·约翰斯顿 约翰·迪·玛吉欧 凯蒂·洛斯 吉塔·雷迪 杰西·科尔蒂 汤米·利斯特 乔希·达拉斯 瑞奇·摩尔 凯斯·索西 彼得·曼斯布里奇 拜伦·霍华德 杰拉德·布什 马克·史密斯 乔西·特立尼达 约翰·拉维尔 克里斯汀·贝尔 吉尔·科德斯 梅利莎·古德温 季冠霖 佟心竹 容祖儿 黄子华 蔡依林 戴维德·迪格斯 张震 尼古拉斯·格斯特  https://img1.doubanio.com/view/photo/i/public/p2315672647.jpg  美国  2016-03-04  喜剧 动画 冒险\n",
      "\n",
      "大话西游之大圣娶亲  9.2  周星驰 吴孟达 朱茵 蔡少芬 蓝洁瑛 莫文蔚 罗家英 刘镇伟 陆树铭 李健仁 吴珏瑾 胡立成 付博文 许敬义 江约诚  https://img3.doubanio.com/view/photo/i/public/p2455050536.jpg  香港  2014-10-24  喜剧 爱情 奇幻 古装\n",
      "\n",
      "触不可及  9.2  弗朗索瓦·克鲁塞 奥玛·希 安娜·勒尼 奥德雷·弗勒罗 托马·索利韦尔 克洛蒂尔德·莫勒 多萝特博里埃 艾米丽·卡恩 阿尔芭·贝露琪 皮埃尔-罗兰·巴纳隆  https://img3.doubanio.com/view/photo/i/public/p1454261925.jpg  法国  2011-11-02  剧情 喜剧\n",
      "\n",
      "Error: unable to fecth data\n",
      "摩登时代  9.2  查理·卓别林 宝莲·高黛 亨利·伯格曼 Tiny Sandford 切斯特·康克林 汉克·曼 Stanley Blystone 阿尔·欧内斯特·加西亚 理查德·亚历山大 Cecil Reynolds Mira McKinney Murdock MacQuarrie 威尔弗雷德·卢卡斯 Edward LeSaint Fred Malatesta Sammy Stein Ted Oliver Norman Ainsley Bobby Barber 海尼·康克林 格洛丽亚·德黑文 Pat Flaherty Frank Hagney Pat Harmon 劳埃德·英格拉哈姆 沃尔特·詹姆斯 Edward Kimball Jack Low Buddy Messinger Bruce Mitchell Frank Moran James C. Morton Louis Natheaux J·C·纽金特 拉斯·鲍威尔 约翰兰德 哈里·威尔逊  https://img3.doubanio.com/view/photo/i/public/p2173707976.jpg  美国  1936-02-25  剧情 喜剧 爱情\n",
      "\n",
      "Error: unable to fecth data\n",
      "你逃我也逃  9.2  卡洛·朗白 杰克·本尼 罗伯特·斯塔克 菲利克斯·布雷萨特 莱昂内尔·阿特威尔 Adolf E. Licho George Lynn Olaf Hytten 约翰·凯洛格 Hans Schumm Charles Irwin 西戈·鲁曼 拉斯·鲍威尔 Wolfgang Zilzer Armand 'Curly' Wright Henry Victor Roland Varno Ernö Verebes Otto Reichow Gene Rizzi 哈利韦尔·霍布斯 查尔斯·霍尔顿 迈尔斯·曼德 John Meredith Maurice Murphy 赫尔穆特·丹丁 斯坦利·里吉斯 弗兰克·雷歇尔 鲁道夫·安德斯 Leyland Hodgson Maude Eburne Tom Dugan James Finlayson Leslie Denison Alec Craig Sven Hugo Borg  https://img3.doubanio.com/view/photo/i/public/p1339915772.jpg  美国  1942-03-06  喜剧 战争\n",
      "\n",
      "欢乐树的朋友们：赶尽杀绝  9.2  Ken Pontac 沃伦·格拉夫 凯恩·纳瓦罗  https://img3.doubanio.com/view/subject/l/public/s1806732.jpg  美国  2005-11-28  动画 喜剧\n",
      "\n",
      "欢乐树的朋友们：第二发球  9.2  沃伦·格拉夫 Rhode Montijo 凯恩·纳瓦罗  https://img3.doubanio.com/view/photo/i/public/p2559163201.jpg  美国  2003  喜剧 动画\n",
      "\n",
      "狐妖小红娘剧场版：王权富贵  9.2  杨天翔 刘校妤 乔诗语 魏超 阎萌萌 张凯 范哲琛  https://img3.doubanio.com/view/photo/i/public/p2409467410.jpg  中国大陆  2016-05-20  剧情 喜剧 爱情\n",
      "\n",
      "欢乐树的朋友们：第三击  9.2  Liz Stuart Ken Pontac 凯恩·纳瓦罗 沃伦·格拉夫 Rhode Montijo  https://img3.doubanio.com/view/subject/l/public/s1806711.jpg  美国  2004-08-01  喜剧 动画\n",
      "\n",
      "两杆大烟枪  9.1  杰森·弗莱明 德克斯特·弗莱彻 尼克·莫兰 杰森·斯坦森 斯蒂文·麦金托什 斯汀 维尼·琼斯 丹尼·约翰-儒勒 维克多·麦奎尔 阿兰·福德 安德鲁·蒂曼 马修·沃恩 弗兰克·哈珀 罗尼·福克斯 罗伯·布莱顿 斯蒂芬·马库斯 瓦斯·布莱克伍德 Lenny McLean 尼古拉斯·罗尔 P.H.莫里亚蒂 薇拉·黛  https://img1.doubanio.com/view/photo/i/public/p792443418.jpg  英国  1998-08-28  剧情 喜剧 犯罪\n",
      "\n",
      "Error: unable to fecth data\n",
      "淘金记  9.1  查理·卓别林 马克·斯旺 Tom Murray 亨利·伯格曼 Malcolm Waite 乔治亚·黑尔 Jack Adams Sam Allen Harry Arras 艾伯特·奥斯汀 Marta Belfort George Brock 海尼·康克林 Kay Deslys James Dime Leon Farey Charles Force J.C. Fowler 阿尔·欧内斯特·加西亚 Inez Gomez 希德·格鲁曼 丽泰·格雷 雷·格雷 F.F. Guenste Jack Herrick George Holt Jean Huntley Gladys Johnston Fred Karno Jr. Elias Lazaroff Joan Lowell Chris-Pin Martin Clyde McAtee John Millerta 贝蒂莫里西 Florence Murth 约翰兰德 Tiny Sandford Frank Stockdale Frank Rice Lillian Rosine C.F. Roark Armand Triller John Wallace Tom Wood Ed Wilson Bess Wade  https://img3.doubanio.com/view/photo/i/public/p1581774481.jpg  美国  1925-06-26  喜剧 爱情 西部 冒险\n",
      "\n",
      "Error: unable to fecth data\n",
      "寻子遇仙记  9.1  查理·卓别林 卡尔·米勒 艾德娜·珀薇安丝 杰基·库根 艾伯特·奥斯汀 Nellie Bly Baker 亨利·伯格曼 Edward Biby B.F. Blinn Kitty Bradbury 弗兰克·坎皮沃 Bliss Chevalier Robert Dunbar 丽泰·格雷 Jules Hanft Kathleen Kay Raymond Lee Clyde McAtee Lew Parker 艾斯特·罗尔斯顿 Granville Redmond 查尔斯·赖斯纳 Edgar Sherrod Arthur Thalasso S.D. Wilcox 汤姆·威尔森  https://img1.doubanio.com/view/photo/i/public/p1684763607.jpg  美国  1921-02-06  剧情 喜剧 家庭\n",
      "\n",
      "Error: unable to fecth data\n",
      "马戏团  9.1  阿尔·欧内斯特·加西亚 梅尔纳·肯尼迪 Harry Crocker George Davis 亨利·伯格曼 Tiny Sandford 约翰兰德 查理·卓别林 艾伯特·奥斯汀 Stanley Blystone 海尼·康克林 Toraichi Kono 贝蒂莫里西 L.J. O'Connor 杰克 P. 皮尔斯 Hugh Saxon Armand Triller 吉恩·巴瑞 乔治·W·戴维斯  https://img3.doubanio.com/view/photo/i/public/p2248445275.jpg  美国  1928-01-06  喜剧 爱情\n",
      "\n",
      "欢乐树的朋友们  9.1    https://img3.doubanio.com/view/photo/i/public/p2533709702.jpg  美国  2006-05-03  动画 喜剧\n",
      "\n",
      "欢乐树的朋友们：滑雪巡逻救生队  9.1  沃伦·格拉夫 比利·维斯特 凯恩·纳瓦罗  https://img3.doubanio.com/view/subject/l/public/s3622650.jpg  美国  2006-04-12  喜剧 动画\n",
      "\n",
      "我不是药神  9.0  徐峥 王传君 周一围 谭卓 章宇 杨新鸣 王佳佳 王砚辉 贾晨飞 龚蓓苾 宁浩 李乃文 岳小军 苇青 富冠铭 巴拉特·巴蒂 喜利图 张海艳 朱耕佑 张子贤 邓飞 任洛敏 杜子蓝 刘兴雷  https://img3.doubanio.com/view/photo/i/public/p2561305376.jpg  中国大陆  2018-07-05  剧情 喜剧\n",
      "\n"
     ]
    }
   ],
   "source": [
    "import requests\n",
    "import json\n",
    "import time\n",
    "import pymysql\n",
    "import string\n",
    "\n",
    "conn=pymysql.connect(host='192.168.137.57',port=3306,user='cyz',passwd='root',db='bigdatafilm',charset='utf8')\n",
    "cursor=conn.cursor()\n",
    "\n",
    "cursor.execute(\"DROP TABLE IF EXISTS COMEDY\")\n",
    "sql = \"\"\"CREATE TABLE COMEDY(\n",
    "         TITLE  CHAR(50) NOT NULL,\n",
    "         SCORE FLOAT,\n",
    "         ACTORS  CHAR(255),\n",
    "         COVER_URL CHAR(200),\n",
    "         REGIONS CHAR(20),\n",
    "         RELEASE_DATE CHAR(20),\n",
    "         TYPES CHAR(50))\"\"\"\n",
    "cursor.execute(sql)\n",
    "\n",
    "for a in range(3):\n",
    "    url_visit = 'https://movie.douban.com/j/chart/top_list?type=24&interval_id=100%3A90&action=&start={}&limit=20'.format(a*20)\n",
    "    file = requests.get(url_visit).json()   \n",
    "    time.sleep(2)\n",
    "\n",
    "    for i in range(20):\n",
    "        dict=file[i]   \n",
    "        title=dict['title']\n",
    "        score=float(dict['score'])\n",
    "        actors=dict['actors']\n",
    "        cover_url=dict['cover_url']\n",
    "        cover_url=cover_url.replace('s_ratio_poster','i')\n",
    "        regions=dict['regions'][0]\n",
    "        release_date=dict['release_date']\n",
    "        types=dict['types']\n",
    "    \n",
    "        film_actors=' '.join(actors)\n",
    "        film_types=' '.join(types)\n",
    "        sql = \"INSERT INTO COMEDY(TITLE, SCORE, ACTORS, COVER_URL, REGIONS, RELEASE_DATE, TYPES) VALUES ('%s', '%f', '%s', '%s', '%s', '%s', '%s')\"%(title, score, film_actors, cover_url, regions, release_date, film_types)\n",
    "        try:\n",
    "            cursor.execute(sql)\n",
    "            conn.commit()\n",
    "        except:\n",
    "            conn.rollback()\n",
    "            print (\"Error: unable to fecth data\")\n",
    "        print('{}  {}  {}  {}  {}  {}  {}\\n'.format(title, score , film_actors, cover_url, regions, release_date, film_types))\n",
    "\n",
    "conn.close()"
   ]
  },
  {
   "cell_type": "code",
   "execution_count": 9,
   "metadata": {},
   "outputs": [
    {
     "data": {
      "text/plain": [
       "9.0"
      ]
     },
     "execution_count": 9,
     "metadata": {},
     "output_type": "execute_result"
    }
   ],
   "source": []
  },
  {
   "cell_type": "code",
   "execution_count": null,
   "metadata": {},
   "outputs": [],
   "source": []
  }
 ],
 "metadata": {
  "kernelspec": {
   "display_name": "Python 3",
   "language": "python",
   "name": "python3"
  }
 },
 "nbformat": 4,
 "nbformat_minor": 2
}
